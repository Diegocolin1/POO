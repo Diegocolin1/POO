{
  "nbformat": 4,
  "nbformat_minor": 0,
  "metadata": {
    "colab": {
      "provenance": []
    },
    "kernelspec": {
      "name": "python3",
      "display_name": "Python 3"
    },
    "language_info": {
      "name": "python"
    }
  },
  "cells": [
    {
      "cell_type": "code",
      "execution_count": 1,
      "metadata": {
        "colab": {
          "base_uri": "https://localhost:8080/",
          "height": 105
        },
        "id": "CMmTPuXsVeYN",
        "outputId": "17050ec3-eef8-4b81-b25a-efdc70354c0d"
      },
      "outputs": [
        {
          "output_type": "error",
          "ename": "SyntaxError",
          "evalue": "unmatched ']' (<ipython-input-1-66c1c4a5e978>, line 22)",
          "traceback": [
            "\u001b[0;36m  File \u001b[0;32m\"<ipython-input-1-66c1c4a5e978>\"\u001b[0;36m, line \u001b[0;32m22\u001b[0m\n\u001b[0;31m    matrix = [l4, 8], [1, 3]]\u001b[0m\n\u001b[0m                            ^\u001b[0m\n\u001b[0;31mSyntaxError\u001b[0m\u001b[0;31m:\u001b[0m unmatched ']'\n"
          ]
        }
      ],
      "source": [
        "import numpy as np\n",
        "class OperacionesMatrices:\n",
        "def\n",
        "_init__(self, matrix):\n",
        "self.matrix = np.array (matrix)\n",
        "def determinante (self):\n",
        "return np.linalg.det (self.matrix)\n",
        "def inversa(self):\n",
        "return np.linalg.inv(self.matrix)\n",
        "de transpuesta(self):\n",
        "return np.transpose (self.matrix)\n",
        "def rotacion (self, angle):\n",
        "radians = np. radians (angle)\n",
        "rotation_matrix = np.array([[np. cos (radians), -np.sin(radians)], [np.sin (radians), np.cos (radians)]])\n",
        "return np.dot (rotation_matrix, self.matrix)\n",
        "class Matrices (OperacionesMatrices):\n",
        "def\n",
        "init_(self, matrix):\n",
        "super ().\n",
        "init (matrix)\n",
        "# Eiemplo de uso\n",
        "matrix = [l4, 8], [1, 3]]\n",
        "matrices_obj = Matrices (matrix)\n",
        "print (\"Matrix:\")\n",
        "print (matrices_obj.matrix)\n"
      ]
    },
    {
      "cell_type": "markdown",
      "source": [
        "Matrix:\n",
        "[4 81\n",
        "1 311\n",
        "Determinant:\n",
        "4.0\n",
        "Inverse:\n",
        "11 0.75 -2.\n",
        "1-0.25 1.\n",
        "Transpose:\n",
        "[ [4 1]\n",
        "[8 311\n",
        "Rotation by 180 degrees:\n",
        "11-4. -8.1\n",
        "[-1. -3.1]\n"
      ],
      "metadata": {
        "id": "7MQ5OiOBV05B"
      }
    },
    {
      "cell_type": "code",
      "source": [
        "# Ejemplo de uso\n",
        "matrix = [14, 8], I1, 311\n",
        "matrices_ obj = Matrices (matrix)\n",
        "print (\"Matrix:\")\n",
        "print (matrices_obj.matrix)\n",
        "print (\"Determinant:\")\n",
        "print(matrices_obj.determinante ())\n",
        "print (\"Inverse:\")\n",
        "print(matrices_obj.inversa ())\n",
        "print (\"Transpose:\")\n",
        "print (matrices_obj.transpuesta ())\n",
        "print (\"Rotation by 180 degrees:\")\n",
        "print (matrices_obj.rotacion (180))"
      ],
      "metadata": {
        "id": "vKzmy-KMV430"
      },
      "execution_count": null,
      "outputs": []
    }
  ]
}