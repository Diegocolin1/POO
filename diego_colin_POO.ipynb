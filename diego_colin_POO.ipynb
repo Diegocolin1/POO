{
  "nbformat": 4,
  "nbformat_minor": 0,
  "metadata": {
    "colab": {
      "provenance": []
    },
    "kernelspec": {
      "name": "python3",
      "display_name": "Python 3"
    },
    "language_info": {
      "name": "python"
    }
  },
  "cells": [
    {
      "cell_type": "markdown",
      "source": [
        "# primeros objetos\n",
        "\n",
        "1.   objetos\n",
        "2.   listas\n",
        "3.   conjuntos\n",
        "\n",
        "\n",
        "\n",
        "\n",
        "\n",
        "\n"
      ],
      "metadata": {
        "id": "2UMeAyU9j0A6"
      }
    },
    {
      "cell_type": "markdown",
      "source": [
        "en python se pueden realizar operaciones sobre objeto.  Ademas, es util para resolver soluciones a un sistma de ecuaciones lineales.\n",
        "\n",
        "$$\n",
        "f(x,y)\\begin{cases}\n",
        "x+2y &= 3\\\\\n",
        "2x+4y &=6\n",
        "\\end{cases}\n",
        "$$\n",
        "\n"
      ],
      "metadata": {
        "id": "gEf1Eztplfm6"
      }
    },
    {
      "cell_type": "code",
      "source": [
        " print(\"hola mundo!\")\n"
      ],
      "metadata": {
        "colab": {
          "base_uri": "https://localhost:8080/"
        },
        "id": "JTz42iperLHD",
        "outputId": "14401b0c-b331-419d-c2ef-0dd757095a5c"
      },
      "execution_count": 1,
      "outputs": [
        {
          "output_type": "stream",
          "name": "stdout",
          "text": [
            "hola mundo!\n"
          ]
        }
      ]
    },
    {
      "cell_type": "markdown",
      "source": [
        "# primeros objetos\n",
        "\n",
        "\n",
        "1.   numeros enteros\n",
        "2.   numeros flotantes\n",
        "\n"
      ],
      "metadata": {
        "id": "dsLiXtG_ryJv"
      }
    },
    {
      "cell_type": "code",
      "source": [
        "# crear variables\n",
        "x = 3\n",
        "y = 5\n"
      ],
      "metadata": {
        "id": "jYGeutwKsXQ8"
      },
      "execution_count": 3,
      "outputs": []
    },
    {
      "cell_type": "code",
      "source": [
        "print(x+y)\n",
        "print(x-y)\n",
        "print(x*y)\n",
        "print(x/y)\n",
        "print(x//y)\n",
        "print(x%y)\n"
      ],
      "metadata": {
        "colab": {
          "base_uri": "https://localhost:8080/"
        },
        "id": "HFSAQFH2tYix",
        "outputId": "4e4e1481-8e9e-41cf-e926-734ed94b9eac"
      },
      "execution_count": 4,
      "outputs": [
        {
          "output_type": "stream",
          "name": "stdout",
          "text": [
            "8\n",
            "-2\n",
            "15\n",
            "0.6\n",
            "0\n",
            "3\n"
          ]
        }
      ]
    }
  ]
}